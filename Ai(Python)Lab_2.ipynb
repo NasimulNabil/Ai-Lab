{
  "nbformat": 4,
  "nbformat_minor": 0,
  "metadata": {
    "colab": {
      "name": "Ai(Python)Lab-2.ipynb",
      "provenance": [],
      "authorship_tag": "ABX9TyOy7DfqA6eh3+uD6lYXEeM6",
      "include_colab_link": true
    },
    "kernelspec": {
      "name": "python3",
      "display_name": "Python 3"
    }
  },
  "cells": [
    {
      "cell_type": "markdown",
      "metadata": {
        "id": "view-in-github",
        "colab_type": "text"
      },
      "source": [
        "<a href=\"https://colab.research.google.com/github/NasimulNabil/Ai-Lab/blob/main/Ai(Python)Lab_2.ipynb\" target=\"_parent\"><img src=\"https://colab.research.google.com/assets/colab-badge.svg\" alt=\"Open In Colab\"/></a>"
      ]
    },
    {
      "cell_type": "code",
      "metadata": {
        "colab": {
          "base_uri": "https://localhost:8080/"
        },
        "id": "8fzS22QSIe1t",
        "outputId": "d185b3a8-a772-4013-c7bd-11ccc5b730d1"
      },
      "source": [
        "str=\"Python is a high level programming language\"\n",
        "print(str)"
      ],
      "execution_count": null,
      "outputs": [
        {
          "output_type": "stream",
          "text": [
            "Python is a high level programming language\n"
          ],
          "name": "stdout"
        }
      ]
    },
    {
      "cell_type": "code",
      "metadata": {
        "id": "I6speB7lO98k"
      },
      "source": [
        "len(str)"
      ],
      "execution_count": null,
      "outputs": []
    },
    {
      "cell_type": "code",
      "metadata": {
        "colab": {
          "base_uri": "https://localhost:8080/",
          "height": 35
        },
        "id": "P4_lAPkYPJXU",
        "outputId": "c92f143c-cbaf-48c8-dbc2-af4dfdce83d3"
      },
      "source": [
        "str[0]"
      ],
      "execution_count": null,
      "outputs": [
        {
          "output_type": "execute_result",
          "data": {
            "application/vnd.google.colaboratory.intrinsic+json": {
              "type": "string"
            },
            "text/plain": [
              "'P'"
            ]
          },
          "metadata": {
            "tags": []
          },
          "execution_count": 43
        }
      ]
    },
    {
      "cell_type": "code",
      "metadata": {
        "colab": {
          "base_uri": "https://localhost:8080/",
          "height": 35
        },
        "id": "vvnJYWs-PbgL",
        "outputId": "f3817fc8-5be0-42bd-bb63-139a4e4ef39a"
      },
      "source": [
        "#reverse printing\n",
        "str[-1]"
      ],
      "execution_count": null,
      "outputs": [
        {
          "output_type": "execute_result",
          "data": {
            "application/vnd.google.colaboratory.intrinsic+json": {
              "type": "string"
            },
            "text/plain": [
              "'e'"
            ]
          },
          "metadata": {
            "tags": []
          },
          "execution_count": 44
        }
      ]
    },
    {
      "cell_type": "code",
      "metadata": {
        "colab": {
          "base_uri": "https://localhost:8080/",
          "height": 35
        },
        "id": "2BDNSH19OyTm",
        "outputId": "660fed10-6cd8-4dbd-b0da-d8fbb7888c2d"
      },
      "source": [
        "str[::]"
      ],
      "execution_count": null,
      "outputs": [
        {
          "output_type": "execute_result",
          "data": {
            "application/vnd.google.colaboratory.intrinsic+json": {
              "type": "string"
            },
            "text/plain": [
              "'Python is a high level programming language'"
            ]
          },
          "metadata": {
            "tags": []
          },
          "execution_count": 45
        }
      ]
    },
    {
      "cell_type": "code",
      "metadata": {
        "colab": {
          "base_uri": "https://localhost:8080/",
          "height": 35
        },
        "id": "NYzW6qGYQTtS",
        "outputId": "ed07ca4c-90ce-422e-d13b-4141b01951b0"
      },
      "source": [
        "str[::-1]"
      ],
      "execution_count": null,
      "outputs": [
        {
          "output_type": "execute_result",
          "data": {
            "application/vnd.google.colaboratory.intrinsic+json": {
              "type": "string"
            },
            "text/plain": [
              "'egaugnal gnimmargorp level hgih a si nohtyP'"
            ]
          },
          "metadata": {
            "tags": []
          },
          "execution_count": 47
        }
      ]
    },
    {
      "cell_type": "code",
      "metadata": {
        "colab": {
          "base_uri": "https://localhost:8080/",
          "height": 35
        },
        "id": "MUSt65XBQtMz",
        "outputId": "c7caa3c8-4a5a-4865-98e3-d4eb272af393"
      },
      "source": [
        "str[10:34]"
      ],
      "execution_count": null,
      "outputs": [
        {
          "output_type": "execute_result",
          "data": {
            "application/vnd.google.colaboratory.intrinsic+json": {
              "type": "string"
            },
            "text/plain": [
              "'a high level programming'"
            ]
          },
          "metadata": {
            "tags": []
          },
          "execution_count": 48
        }
      ]
    },
    {
      "cell_type": "code",
      "metadata": {
        "colab": {
          "base_uri": "https://localhost:8080/"
        },
        "id": "CNMA0VbTRBjL",
        "outputId": "5c33a094-52e5-46d5-b31c-6bb24dca22eb"
      },
      "source": [
        "#functions\n",
        "print(\"Hi, i am Nasimul\")\n",
        "print(\"I am a student of CSE Department\")\n",
        "s=input()\n",
        "\n",
        "a=109\n",
        "b=261\n",
        "print(max(a,b))\n",
        "print(min(a,b))\n",
        "\n",
        "c=3445.098\n",
        "d=int(c)\n",
        "print(d)\n",
        "\n",
        "e=\"Daffodil\"\n",
        "print(type(e))"
      ],
      "execution_count": null,
      "outputs": [
        {
          "output_type": "stream",
          "text": [
            "Hi, i am Nasimul\n",
            "I am a student of CSE Department\n",
            "DIU\n",
            "261\n",
            "109\n",
            "3445\n",
            "<class 'str'>\n"
          ],
          "name": "stdout"
        }
      ]
    },
    {
      "cell_type": "code",
      "metadata": {
        "colab": {
          "base_uri": "https://localhost:8080/"
        },
        "id": "2f0FpQY1T3yN",
        "outputId": "a5a68272-f8b8-48e7-8aa2-0553e12c0e17"
      },
      "source": [
        "#define function\n",
        "def sum(j,k):\n",
        "  l=j+k\n",
        "  return l\n",
        "j=int(input(\"Enter a number: \"))\n",
        "k=int(input(\"Enter a number: \"))\n",
        "m=sum(j,k)\n",
        "print(\"The sum is\",m)"
      ],
      "execution_count": null,
      "outputs": [
        {
          "output_type": "stream",
          "text": [
            "Enter a number: 234\n",
            "Enter a number: 543\n",
            "The sum is 777\n"
          ],
          "name": "stdout"
        }
      ]
    },
    {
      "cell_type": "code",
      "metadata": {
        "id": "Qgf5XX0kVCCU"
      },
      "source": [
        "#function features\n",
        "def function_name(parameter1,parameter2):\n",
        "  statement1\n",
        "  statement2\n",
        "    "
      ],
      "execution_count": null,
      "outputs": []
    },
    {
      "cell_type": "code",
      "metadata": {
        "id": "7CaiTp3wWEf7"
      },
      "source": [
        "def divisor(x,y,m):\n",
        "  if x%m==0 and y%m==0:\n",
        "    print(\"%d & %d are divisible by %d\"%(x,y,m))\n",
        "  elif x%m==0:\n",
        "    print(\"only %d is divisible by %d\"%(x,m))\n",
        "  elif y%m==0:\n",
        "    print(\"only %d is divisible by %d\"%(y,m))\n",
        "  else:\n",
        "    print(\"none of %d & %d is divisible by %d\"%(x,y,m))\n",
        "  "
      ],
      "execution_count": null,
      "outputs": []
    },
    {
      "cell_type": "code",
      "metadata": {
        "colab": {
          "base_uri": "https://localhost:8080/"
        },
        "id": "EYqru9SYpngL",
        "outputId": "89244380-5fd5-43b9-97c4-db1204e90ce2"
      },
      "source": [
        "divisor(20,15,5)\n",
        "divisor(100,25,10)\n",
        "divisor(90,30,3)"
      ],
      "execution_count": null,
      "outputs": [
        {
          "output_type": "stream",
          "text": [
            "20 & 15 are divisible by 5\n",
            "only 100 is divisible by 10\n",
            "90 & 30 are divisible by 3\n"
          ],
          "name": "stdout"
        }
      ]
    },
    {
      "cell_type": "code",
      "metadata": {
        "colab": {
          "base_uri": "https://localhost:8080/"
        },
        "id": "HQhBUhEgY4Gj",
        "outputId": "c94f773f-d83e-4dda-a0b1-4027c91b5b74"
      },
      "source": [
        "#without parameter\n",
        "def sum():\n",
        "  u=344+77\n",
        "  return u\n",
        "v=sum()\n",
        "print(v)"
      ],
      "execution_count": null,
      "outputs": [
        {
          "output_type": "stream",
          "text": [
            "421\n"
          ],
          "name": "stdout"
        }
      ]
    },
    {
      "cell_type": "code",
      "metadata": {
        "id": "fkfGDgkuZRhc"
      },
      "source": [
        "def check(a=0):\n",
        "  if a==0:\n",
        "    print(\"zero\")\n",
        "  elif a>0:\n",
        "    print(\"positive\")\n",
        "  else:\n",
        "    print(\"Negative\")"
      ],
      "execution_count": null,
      "outputs": []
    },
    {
      "cell_type": "code",
      "metadata": {
        "colab": {
          "base_uri": "https://localhost:8080/"
        },
        "id": "pg3R1HzgZ0r6",
        "outputId": "ae4c1edd-b828-40af-919d-7cb0da8069c3"
      },
      "source": [
        "check() #without parameter\n",
        "check(-23) #without parameter\n",
        "check(3)"
      ],
      "execution_count": null,
      "outputs": [
        {
          "output_type": "stream",
          "text": [
            "zero\n",
            "Negative\n",
            "positive\n"
          ],
          "name": "stdout"
        }
      ]
    },
    {
      "cell_type": "code",
      "metadata": {
        "colab": {
          "base_uri": "https://localhost:8080/"
        },
        "id": "9oABklc9aWKD",
        "outputId": "b6687c2a-0c20-4a51-c21a-cf41083645bc"
      },
      "source": [
        "#local scope\n",
        "def local_scope():\n",
        "    x=34\n",
        "    print(x)\n",
        "\n",
        "local_scope()\n",
        "print(x)"
      ],
      "execution_count": null,
      "outputs": [
        {
          "output_type": "stream",
          "text": [
            "34\n",
            "11\n"
          ],
          "name": "stdout"
        }
      ]
    },
    {
      "cell_type": "code",
      "metadata": {
        "colab": {
          "base_uri": "https://localhost:8080/"
        },
        "id": "hGaxjw3qeCWs",
        "outputId": "6798cece-3a37-4102-e2a8-ae70fc5c0160"
      },
      "source": [
        "#global scope\n",
        "def global_scope():\n",
        "    global x\n",
        "    x=86\n",
        "global_scope()\n",
        "print(x)"
      ],
      "execution_count": null,
      "outputs": [
        {
          "output_type": "stream",
          "text": [
            "86\n"
          ],
          "name": "stdout"
        }
      ]
    },
    {
      "cell_type": "code",
      "metadata": {
        "id": "jX1OZrhBekrF"
      },
      "source": [
        ""
      ],
      "execution_count": null,
      "outputs": []
    }
  ]
}