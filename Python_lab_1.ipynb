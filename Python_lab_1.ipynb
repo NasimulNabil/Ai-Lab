{
  "nbformat": 4,
  "nbformat_minor": 0,
  "metadata": {
    "colab": {
      "name": "Python lab-1.ipynb",
      "provenance": [],
      "authorship_tag": "ABX9TyN0QZ4PkuxkgG3kCdX8zBK7",
      "include_colab_link": true
    },
    "kernelspec": {
      "name": "python3",
      "display_name": "Python 3"
    }
  },
  "cells": [
    {
      "cell_type": "markdown",
      "metadata": {
        "id": "view-in-github",
        "colab_type": "text"
      },
      "source": [
        "<a href=\"https://colab.research.google.com/github/NasimulNabil/Ai-Lab/blob/main/Python_lab_1.ipynb\" target=\"_parent\"><img src=\"https://colab.research.google.com/assets/colab-badge.svg\" alt=\"Open In Colab\"/></a>"
      ]
    },
    {
      "cell_type": "code",
      "metadata": {
        "colab": {
          "base_uri": "https://localhost:8080/"
        },
        "id": "GXjb0Nx1JdQQ",
        "outputId": "d50a5594-26fd-43f7-89b1-390e554a01ca"
      },
      "source": [
        "print(\"Hello World\")"
      ],
      "execution_count": null,
      "outputs": [
        {
          "output_type": "stream",
          "text": [
            "Hello World\n"
          ],
          "name": "stdout"
        }
      ]
    },
    {
      "cell_type": "code",
      "metadata": {
        "colab": {
          "base_uri": "https://localhost:8080/"
        },
        "id": "_j_8DgWVLVDH",
        "outputId": "f9363cee-9154-48e3-fdc9-5f27c38e1ef3"
      },
      "source": [
        "a=155\n",
        "b=12\n",
        "print(a+b)"
      ],
      "execution_count": null,
      "outputs": [
        {
          "output_type": "stream",
          "text": [
            "167\n"
          ],
          "name": "stdout"
        }
      ]
    },
    {
      "cell_type": "code",
      "metadata": {
        "colab": {
          "base_uri": "https://localhost:8080/"
        },
        "id": "RXseFp5TL6Jt",
        "outputId": "c9407e1b-a615-4e8d-9664-7b348cad0e51"
      },
      "source": [
        "c='hello'\n",
        "b='world'\n",
        "e='Diu'\n",
        "print(c+b+e)\n",
        "#gjggjjgfjg"
      ],
      "execution_count": null,
      "outputs": [
        {
          "output_type": "stream",
          "text": [
            "helloworldDiu\n"
          ],
          "name": "stdout"
        }
      ]
    },
    {
      "cell_type": "code",
      "metadata": {
        "colab": {
          "base_uri": "https://localhost:8080/"
        },
        "id": "Nbn6t_xUNk4q",
        "outputId": "37e7aa9f-6d49-4d01-c8dd-3bc68e29bc02"
      },
      "source": [
        "print(100+2)\n",
        "print(100/3)\n",
        "print(7**3)"
      ],
      "execution_count": null,
      "outputs": [
        {
          "output_type": "stream",
          "text": [
            "102\n",
            "33.333333333333336\n",
            "343\n"
          ],
          "name": "stdout"
        }
      ]
    },
    {
      "cell_type": "code",
      "metadata": {
        "colab": {
          "base_uri": "https://localhost:8080/"
        },
        "id": "l7W85NjlRBbY",
        "outputId": "f7ed4f90-757c-40c1-a106-f5f2c1415a38"
      },
      "source": [
        "# String\n",
        "s=\"Bangladeshi\"\n",
        "s2=\"desh\"\n",
        "print(s2 in s)\n",
        "print(s2 is not s)"
      ],
      "execution_count": null,
      "outputs": [
        {
          "output_type": "stream",
          "text": [
            "True\n",
            "True\n"
          ],
          "name": "stdout"
        }
      ]
    },
    {
      "cell_type": "code",
      "metadata": {
        "colab": {
          "base_uri": "https://localhost:8080/"
        },
        "id": "sqPd2LSuOEGi",
        "outputId": "c57b2835-3c2b-472d-ba75-3de65cfadc76"
      },
      "source": [
        "print(20==21)\n",
        "print(29!=27)\n",
        "print(2>=3)\n",
        "print(25<=3)"
      ],
      "execution_count": null,
      "outputs": [
        {
          "output_type": "stream",
          "text": [
            "False\n",
            "True\n",
            "False\n",
            "False\n"
          ],
          "name": "stdout"
        }
      ]
    },
    {
      "cell_type": "code",
      "metadata": {
        "colab": {
          "base_uri": "https://localhost:8080/"
        },
        "id": "NQaUUmXLQPyx",
        "outputId": "791c03d1-3bc8-4259-994b-6d6e28f4e389"
      },
      "source": [
        "print(198==180 and 15!=14)\n",
        "print(170==100) or (105!=14)"
      ],
      "execution_count": null,
      "outputs": [
        {
          "output_type": "stream",
          "text": [
            "False\n",
            "False\n"
          ],
          "name": "stdout"
        },
        {
          "output_type": "execute_result",
          "data": {
            "text/plain": [
              "True"
            ]
          },
          "metadata": {
            "tags": []
          },
          "execution_count": 28
        }
      ]
    },
    {
      "cell_type": "code",
      "metadata": {
        "colab": {
          "base_uri": "https://localhost:8080/"
        },
        "id": "mFgLIQ9RRyeP",
        "outputId": "d6f96169-b3d5-4562-cab6-70911d12d14b"
      },
      "source": [
        "a = input()\n",
        "b = int(input())\n",
        "c = float(input())"
      ],
      "execution_count": null,
      "outputs": [
        {
          "output_type": "stream",
          "text": [
            "Bangladesh\n",
            "100\n",
            "100.567\n"
          ],
          "name": "stdout"
        }
      ]
    }
  ]
}