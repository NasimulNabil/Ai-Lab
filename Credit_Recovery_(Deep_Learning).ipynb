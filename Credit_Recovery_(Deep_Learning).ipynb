{
  "nbformat": 4,
  "nbformat_minor": 0,
  "metadata": {
    "colab": {
      "name": "Credit Recovery (Deep Learning).ipynb",
      "provenance": [],
      "include_colab_link": true
    },
    "kernelspec": {
      "name": "python3",
      "display_name": "Python 3"
    },
    "language_info": {
      "name": "python"
    },
    "accelerator": "GPU"
  },
  "cells": [
    {
      "cell_type": "markdown",
      "metadata": {
        "id": "view-in-github",
        "colab_type": "text"
      },
      "source": [
        "<a href=\"https://colab.research.google.com/github/NasimulNabil/Ai-Lab/blob/main/Credit_Recovery_(Deep_Learning).ipynb\" target=\"_parent\"><img src=\"https://colab.research.google.com/assets/colab-badge.svg\" alt=\"Open In Colab\"/></a>"
      ]
    },
    {
      "cell_type": "code",
      "metadata": {
        "id": "6oyNfLCzBlNC"
      },
      "source": [
        "import tensorflow as tf\n",
        "import numpy as np\n",
        "import pandas as pd\n",
        "import keras \n",
        "from tensorflow import keras\n",
        "from keras.layers import Dense\n",
        "import seaborn as sns\n",
        "from sklearn.metrics import classification_report,confusion_matrix,accuracy_score,plot_confusion_matrix,roc_auc_score\n",
        "from tensorflow.keras.layers import *\n",
        "from tensorflow.keras.models import *\n"
      ],
      "execution_count": null,
      "outputs": []
    },
    {
      "cell_type": "code",
      "metadata": {
        "id": "l1VMcEIkBUz3"
      },
      "source": [
        "df = pd.read_csv('/content/drive/MyDrive/Research/loan_data_feature.csv')\n",
        "df.head()"
      ],
      "execution_count": null,
      "outputs": []
    },
    {
      "cell_type": "code",
      "metadata": {
        "colab": {
          "base_uri": "https://localhost:8080/"
        },
        "id": "XAeKCb4iTM80",
        "outputId": "79806050-f7e8-4452-c2d9-2c9df071a1cc"
      },
      "source": [
        "from google.colab import drive\n",
        "drive.mount('/content/drive')"
      ],
      "execution_count": null,
      "outputs": [
        {
          "output_type": "stream",
          "text": [
            "Mounted at /content/drive\n"
          ],
          "name": "stdout"
        }
      ]
    },
    {
      "cell_type": "code",
      "metadata": {
        "colab": {
          "base_uri": "https://localhost:8080/"
        },
        "id": "PSdGkVIBCKm6",
        "outputId": "4d8a1051-1729-4045-fdf9-a588d2238ed7"
      },
      "source": [
        "df.shape"
      ],
      "execution_count": null,
      "outputs": [
        {
          "output_type": "execute_result",
          "data": {
            "text/plain": [
              "(4600, 50)"
            ]
          },
          "metadata": {
            "tags": []
          },
          "execution_count": 4
        }
      ]
    },
    {
      "cell_type": "code",
      "metadata": {
        "colab": {
          "base_uri": "https://localhost:8080/"
        },
        "id": "pI-znhvUCGpC",
        "outputId": "b0bab387-3a22-4986-bf98-0b03367cf866"
      },
      "source": [
        "df.drop(['pay_month_01','pay_month_02','pay_month_03','pay_month_04','pay_month_05','pay_month_06',\\\n",
        "        'bill_amount_01','bill_amount_02','bill_amount_03','bill_amount_04','bill_amount_05','bill_amount_06',\\\n",
        "         'total_bl_countMoreThanOne','repayment_frequencyMoreThanMonth'],axis=1,\\\n",
        "        inplace=True)\n",
        "df.shape"
      ],
      "execution_count": null,
      "outputs": [
        {
          "output_type": "execute_result",
          "data": {
            "text/plain": [
              "(4600, 36)"
            ]
          },
          "metadata": {
            "tags": []
          },
          "execution_count": 5
        }
      ]
    },
    {
      "cell_type": "code",
      "metadata": {
        "id": "v4aoJTjmL2ma"
      },
      "source": [
        ""
      ],
      "execution_count": null,
      "outputs": []
    },
    {
      "cell_type": "code",
      "metadata": {
        "colab": {
          "base_uri": "https://localhost:8080/"
        },
        "id": "bHDC3WgxChmg",
        "outputId": "932390b9-26a8-424c-baca-be473ac1fd93"
      },
      "source": [
        "df.drop(['long_term'],axis=1,inplace=True)\n",
        "df.shape"
      ],
      "execution_count": null,
      "outputs": [
        {
          "output_type": "execute_result",
          "data": {
            "text/plain": [
              "(4600, 35)"
            ]
          },
          "metadata": {
            "tags": []
          },
          "execution_count": 6
        }
      ]
    },
    {
      "cell_type": "code",
      "metadata": {
        "colab": {
          "base_uri": "https://localhost:8080/",
          "height": 224
        },
        "id": "o2UnfqkJDV2z",
        "outputId": "af4eebb2-8a71-451b-d671-39eb0008046e"
      },
      "source": [
        "unscale_inputs = df.drop(['good_credit'],axis=1)\n",
        "unscale_inputs.head()"
      ],
      "execution_count": null,
      "outputs": [
        {
          "output_type": "execute_result",
          "data": {
            "text/html": [
              "<div>\n",
              "<style scoped>\n",
              "    .dataframe tbody tr th:only-of-type {\n",
              "        vertical-align: middle;\n",
              "    }\n",
              "\n",
              "    .dataframe tbody tr th {\n",
              "        vertical-align: top;\n",
              "    }\n",
              "\n",
              "    .dataframe thead th {\n",
              "        text-align: right;\n",
              "    }\n",
              "</style>\n",
              "<table border=\"1\" class=\"dataframe\">\n",
              "  <thead>\n",
              "    <tr style=\"text-align: right;\">\n",
              "      <th></th>\n",
              "      <th>emi_loan</th>\n",
              "      <th>individual_loan</th>\n",
              "      <th>consumer_loan</th>\n",
              "      <th>agri_loan</th>\n",
              "      <th>interest_free</th>\n",
              "      <th>staff_loan</th>\n",
              "      <th>secured_unsecured</th>\n",
              "      <th>annual_income_lavel</th>\n",
              "      <th>loan_type</th>\n",
              "      <th>good_credit_life</th>\n",
              "      <th>customer_relation_day</th>\n",
              "      <th>contract_value</th>\n",
              "      <th>contract_mat_day_remain</th>\n",
              "      <th>customer_age_year</th>\n",
              "      <th>int_rate</th>\n",
              "      <th>current_os_amount</th>\n",
              "      <th>total_sanction_amt</th>\n",
              "      <th>total_disb_amt</th>\n",
              "      <th>total_recov_amt</th>\n",
              "      <th>total_int_amt</th>\n",
              "      <th>total_repayable_amt</th>\n",
              "      <th>emi_amount</th>\n",
              "      <th>num_of_installment</th>\n",
              "      <th>number_of_loan_ac</th>\n",
              "      <th>total_bl_countOne</th>\n",
              "      <th>repayment_frequencyMonth</th>\n",
              "      <th>total_bill_amount</th>\n",
              "      <th>mean_bill_amount</th>\n",
              "      <th>total_pay_amount</th>\n",
              "      <th>mean_pay_amount</th>\n",
              "      <th>ratio_of_total_payment</th>\n",
              "      <th>ratio_of_bill_payment</th>\n",
              "      <th>ratio_of_disb_amt_and_good_credit</th>\n",
              "      <th>number_of_installment_paid</th>\n",
              "    </tr>\n",
              "  </thead>\n",
              "  <tbody>\n",
              "    <tr>\n",
              "      <th>0</th>\n",
              "      <td>0</td>\n",
              "      <td>1</td>\n",
              "      <td>0</td>\n",
              "      <td>0</td>\n",
              "      <td>0</td>\n",
              "      <td>1</td>\n",
              "      <td>1</td>\n",
              "      <td>1.0</td>\n",
              "      <td>2.0</td>\n",
              "      <td>732</td>\n",
              "      <td>1097.0</td>\n",
              "      <td>64800.0</td>\n",
              "      <td>394</td>\n",
              "      <td>22.0</td>\n",
              "      <td>9.0</td>\n",
              "      <td>37232.0</td>\n",
              "      <td>50000.0</td>\n",
              "      <td>50000.0</td>\n",
              "      <td>19350.0</td>\n",
              "      <td>6582.0</td>\n",
              "      <td>43200.0</td>\n",
              "      <td>1800.0</td>\n",
              "      <td>36</td>\n",
              "      <td>1</td>\n",
              "      <td>1</td>\n",
              "      <td>1</td>\n",
              "      <td>114300.0</td>\n",
              "      <td>19050.0000</td>\n",
              "      <td>6.0</td>\n",
              "      <td>1.000000</td>\n",
              "      <td>1.157407</td>\n",
              "      <td>19050.000000</td>\n",
              "      <td>68.306011</td>\n",
              "      <td>10.750000</td>\n",
              "    </tr>\n",
              "    <tr>\n",
              "      <th>1</th>\n",
              "      <td>1</td>\n",
              "      <td>1</td>\n",
              "      <td>0</td>\n",
              "      <td>0</td>\n",
              "      <td>0</td>\n",
              "      <td>1</td>\n",
              "      <td>0</td>\n",
              "      <td>1.0</td>\n",
              "      <td>3.0</td>\n",
              "      <td>606</td>\n",
              "      <td>1741.0</td>\n",
              "      <td>426000.0</td>\n",
              "      <td>487</td>\n",
              "      <td>33.0</td>\n",
              "      <td>13.0</td>\n",
              "      <td>278523.0</td>\n",
              "      <td>300000.0</td>\n",
              "      <td>300000.0</td>\n",
              "      <td>21500.0</td>\n",
              "      <td>300023.0</td>\n",
              "      <td>213000.0</td>\n",
              "      <td>14200.0</td>\n",
              "      <td>30</td>\n",
              "      <td>1</td>\n",
              "      <td>1</td>\n",
              "      <td>1</td>\n",
              "      <td>949000.0</td>\n",
              "      <td>158166.6667</td>\n",
              "      <td>11502.0</td>\n",
              "      <td>1917.000000</td>\n",
              "      <td>1.408451</td>\n",
              "      <td>82.507390</td>\n",
              "      <td>495.049505</td>\n",
              "      <td>1.514085</td>\n",
              "    </tr>\n",
              "    <tr>\n",
              "      <th>2</th>\n",
              "      <td>1</td>\n",
              "      <td>1</td>\n",
              "      <td>0</td>\n",
              "      <td>0</td>\n",
              "      <td>0</td>\n",
              "      <td>1</td>\n",
              "      <td>0</td>\n",
              "      <td>4.0</td>\n",
              "      <td>3.0</td>\n",
              "      <td>618</td>\n",
              "      <td>1026.0</td>\n",
              "      <td>511200.0</td>\n",
              "      <td>660</td>\n",
              "      <td>37.0</td>\n",
              "      <td>13.0</td>\n",
              "      <td>266854.0</td>\n",
              "      <td>300000.0</td>\n",
              "      <td>300000.0</td>\n",
              "      <td>33200.0</td>\n",
              "      <td>300054.0</td>\n",
              "      <td>213000.0</td>\n",
              "      <td>14200.0</td>\n",
              "      <td>36</td>\n",
              "      <td>1</td>\n",
              "      <td>1</td>\n",
              "      <td>1</td>\n",
              "      <td>879300.0</td>\n",
              "      <td>146550.0000</td>\n",
              "      <td>5005.0</td>\n",
              "      <td>834.166667</td>\n",
              "      <td>1.408451</td>\n",
              "      <td>175.684316</td>\n",
              "      <td>485.436893</td>\n",
              "      <td>2.338028</td>\n",
              "    </tr>\n",
              "    <tr>\n",
              "      <th>3</th>\n",
              "      <td>1</td>\n",
              "      <td>1</td>\n",
              "      <td>0</td>\n",
              "      <td>0</td>\n",
              "      <td>0</td>\n",
              "      <td>1</td>\n",
              "      <td>0</td>\n",
              "      <td>4.0</td>\n",
              "      <td>3.0</td>\n",
              "      <td>564</td>\n",
              "      <td>878.0</td>\n",
              "      <td>511200.0</td>\n",
              "      <td>715</td>\n",
              "      <td>28.0</td>\n",
              "      <td>13.0</td>\n",
              "      <td>280000.0</td>\n",
              "      <td>300000.0</td>\n",
              "      <td>300000.0</td>\n",
              "      <td>20000.0</td>\n",
              "      <td>300000.0</td>\n",
              "      <td>184600.0</td>\n",
              "      <td>14200.0</td>\n",
              "      <td>36</td>\n",
              "      <td>1</td>\n",
              "      <td>1</td>\n",
              "      <td>1</td>\n",
              "      <td>774600.0</td>\n",
              "      <td>129100.0000</td>\n",
              "      <td>6.0</td>\n",
              "      <td>1.000000</td>\n",
              "      <td>1.625135</td>\n",
              "      <td>129100.000000</td>\n",
              "      <td>531.914894</td>\n",
              "      <td>1.408451</td>\n",
              "    </tr>\n",
              "    <tr>\n",
              "      <th>4</th>\n",
              "      <td>1</td>\n",
              "      <td>1</td>\n",
              "      <td>1</td>\n",
              "      <td>0</td>\n",
              "      <td>1</td>\n",
              "      <td>1</td>\n",
              "      <td>0</td>\n",
              "      <td>1.0</td>\n",
              "      <td>6.0</td>\n",
              "      <td>425</td>\n",
              "      <td>2020.0</td>\n",
              "      <td>540288.0</td>\n",
              "      <td>1065</td>\n",
              "      <td>45.0</td>\n",
              "      <td>13.0</td>\n",
              "      <td>436384.0</td>\n",
              "      <td>1175000.0</td>\n",
              "      <td>1175000.0</td>\n",
              "      <td>16000.0</td>\n",
              "      <td>52384.0</td>\n",
              "      <td>157584.0</td>\n",
              "      <td>11256.0</td>\n",
              "      <td>48</td>\n",
              "      <td>5</td>\n",
              "      <td>1</td>\n",
              "      <td>1</td>\n",
              "      <td>705664.0</td>\n",
              "      <td>117610.6667</td>\n",
              "      <td>5005.0</td>\n",
              "      <td>834.166667</td>\n",
              "      <td>7.456341</td>\n",
              "      <td>140.991808</td>\n",
              "      <td>2764.705882</td>\n",
              "      <td>1.421464</td>\n",
              "    </tr>\n",
              "  </tbody>\n",
              "</table>\n",
              "</div>"
            ],
            "text/plain": [
              "   emi_loan  ...  number_of_installment_paid\n",
              "0         0  ...                   10.750000\n",
              "1         1  ...                    1.514085\n",
              "2         1  ...                    2.338028\n",
              "3         1  ...                    1.408451\n",
              "4         1  ...                    1.421464\n",
              "\n",
              "[5 rows x 34 columns]"
            ]
          },
          "metadata": {
            "tags": []
          },
          "execution_count": 7
        }
      ]
    },
    {
      "cell_type": "code",
      "metadata": {
        "id": "vjPIMXhKDcUh"
      },
      "source": [
        "from sklearn.preprocessing import StandardScaler\n",
        "standardization = StandardScaler()\n",
        "scale_inputs = standardization.fit_transform(unscale_inputs)"
      ],
      "execution_count": null,
      "outputs": []
    },
    {
      "cell_type": "code",
      "metadata": {
        "id": "kG0e19KnDjbo"
      },
      "source": [
        "x = scale_inputs"
      ],
      "execution_count": null,
      "outputs": []
    },
    {
      "cell_type": "code",
      "metadata": {
        "colab": {
          "base_uri": "https://localhost:8080/"
        },
        "id": "NW5qmsNEDmmq",
        "outputId": "d4a3b9f0-3f74-4114-f6be-35789716aab7"
      },
      "source": [
        "x"
      ],
      "execution_count": null,
      "outputs": [
        {
          "output_type": "execute_result",
          "data": {
            "text/plain": [
              "array([[-1.57885612,  0.35389916, -0.36889427, ..., -0.12877333,\n",
              "        -0.28520422,  1.58760888],\n",
              "       [ 0.63336994,  0.35389916, -0.36889427, ..., -0.23545637,\n",
              "         0.31016978, -0.42863357],\n",
              "       [ 0.63336994,  0.35389916, -0.36889427, ..., -0.2349323 ,\n",
              "         0.29675868, -0.24876292],\n",
              "       ...,\n",
              "       [-1.57885612,  0.35389916, -0.36889427, ..., -0.09671357,\n",
              "        -0.22685019, -0.40987783],\n",
              "       [ 0.63336994,  0.35389916, -0.36889427, ...,  0.29840895,\n",
              "        -0.08491777, -0.54086056],\n",
              "       [ 0.63336994,  0.35389916, -0.36889427, ...,  0.24216375,\n",
              "         0.1028088 , -0.56511662]])"
            ]
          },
          "metadata": {
            "tags": []
          },
          "execution_count": 10
        }
      ]
    },
    {
      "cell_type": "code",
      "metadata": {
        "id": "auGCZ_DVDryq"
      },
      "source": [
        "y = df['good_credit']\n",
        "y"
      ],
      "execution_count": null,
      "outputs": []
    },
    {
      "cell_type": "code",
      "metadata": {
        "id": "CUhFoz8zD2eZ"
      },
      "source": [
        "from sklearn.model_selection import train_test_split\n",
        "x_train,x_test,y_train,y_test = train_test_split(x,y,test_size=0.20,random_state=50)"
      ],
      "execution_count": null,
      "outputs": []
    },
    {
      "cell_type": "code",
      "metadata": {
        "id": "C__dkjWPFJW4",
        "colab": {
          "base_uri": "https://localhost:8080/"
        },
        "outputId": "b6521434-0acf-4bf3-d510-a1362c6266e8"
      },
      "source": [
        "x_train.shape\n"
      ],
      "execution_count": null,
      "outputs": [
        {
          "output_type": "execute_result",
          "data": {
            "text/plain": [
              "(3680, 34)"
            ]
          },
          "metadata": {
            "tags": []
          },
          "execution_count": 39
        }
      ]
    },
    {
      "cell_type": "code",
      "metadata": {
        "id": "ItV5gxLUFQo0",
        "colab": {
          "base_uri": "https://localhost:8080/"
        },
        "outputId": "6e05dd85-7c30-4e25-ff0a-ba6c230dcfe2"
      },
      "source": [
        "x_test"
      ],
      "execution_count": null,
      "outputs": [
        {
          "output_type": "execute_result",
          "data": {
            "text/plain": [
              "array([[ 0.63336994,  0.35389916, -0.36889427, ...,  3.96643962,\n",
              "        -0.26482892, -0.70414346],\n",
              "       [ 0.63336994,  0.35389916, -0.36889427, ..., -0.23592887,\n",
              "         0.44017855,  1.86048957],\n",
              "       [ 0.63336994,  0.35389916, -0.36889427, ..., -0.23593921,\n",
              "         0.30172636,  2.95515344],\n",
              "       ...,\n",
              "       [-1.57885612,  0.35389916, -0.36889427, ..., -0.11780552,\n",
              "        -0.20867326, -0.75916512],\n",
              "       [ 0.63336994,  0.35389916,  2.71080382, ..., -0.2357695 ,\n",
              "        -0.01906227,  2.27005211],\n",
              "       [ 0.63336994,  0.35389916, -0.36889427, ..., -0.1057128 ,\n",
              "        -0.25366938,  0.09768027]])"
            ]
          },
          "metadata": {
            "tags": []
          },
          "execution_count": 40
        }
      ]
    },
    {
      "cell_type": "code",
      "metadata": {
        "id": "n3zDqp_cHHKx"
      },
      "source": [
        "#Build a model\n",
        "\n",
        "model = keras.Sequential()\n",
        "model.add(Dense (64, input_dim= len(x_train[0, :]), activation='relu'))\n",
        "model.add(Dense(32,activation='relu'))\n",
        "model.add(Dense(16,activation='relu'))\n",
        "model.add(Dense(1, activation='sigmoid'))"
      ],
      "execution_count": null,
      "outputs": []
    },
    {
      "cell_type": "code",
      "metadata": {
        "id": "vgkqN-_vIVKY"
      },
      "source": [
        "model.compile(\n",
        "    optimizer = 'rmsprop',\n",
        "    loss = 'binary_crossentropy',\n",
        "    metrics = ['accuracy']\n",
        ")"
      ],
      "execution_count": null,
      "outputs": []
    },
    {
      "cell_type": "code",
      "metadata": {
        "colab": {
          "base_uri": "https://localhost:8080/"
        },
        "id": "Z4vTlQk2IXLB",
        "outputId": "4f493f68-d533-40db-e585-0ad1f8060ffb"
      },
      "source": [
        "model.fit(\n",
        "    x_train,\n",
        "    y_train,\n",
        "    epochs= 10,\n",
        "    verbose = 1\n",
        ")"
      ],
      "execution_count": null,
      "outputs": [
        {
          "output_type": "stream",
          "text": [
            "Epoch 1/10\n",
            "115/115 [==============================] - 1s 2ms/step - loss: 0.4564 - accuracy: 0.8190\n",
            "Epoch 2/10\n",
            "115/115 [==============================] - 0s 2ms/step - loss: 0.3980 - accuracy: 0.8533\n",
            "Epoch 3/10\n",
            "115/115 [==============================] - 0s 2ms/step - loss: 0.3815 - accuracy: 0.8557\n",
            "Epoch 4/10\n",
            "115/115 [==============================] - 0s 2ms/step - loss: 0.3711 - accuracy: 0.8579\n",
            "Epoch 5/10\n",
            "115/115 [==============================] - 0s 2ms/step - loss: 0.3649 - accuracy: 0.8633\n",
            "Epoch 6/10\n",
            "115/115 [==============================] - 0s 2ms/step - loss: 0.3587 - accuracy: 0.8647\n",
            "Epoch 7/10\n",
            "115/115 [==============================] - 0s 2ms/step - loss: 0.3529 - accuracy: 0.8663\n",
            "Epoch 8/10\n",
            "115/115 [==============================] - 0s 2ms/step - loss: 0.3467 - accuracy: 0.8687\n",
            "Epoch 9/10\n",
            "115/115 [==============================] - 0s 2ms/step - loss: 0.3425 - accuracy: 0.8704\n",
            "Epoch 10/10\n",
            "115/115 [==============================] - 0s 2ms/step - loss: 0.3393 - accuracy: 0.8728\n"
          ],
          "name": "stdout"
        },
        {
          "output_type": "execute_result",
          "data": {
            "text/plain": [
              "<tensorflow.python.keras.callbacks.History at 0x7f7ddd52fb90>"
            ]
          },
          "metadata": {
            "tags": []
          },
          "execution_count": 62
        }
      ]
    },
    {
      "cell_type": "code",
      "metadata": {
        "id": "R92aNNKqay5n"
      },
      "source": [
        "predictions = model.predict(x_test)\n"
      ],
      "execution_count": null,
      "outputs": []
    },
    {
      "cell_type": "code",
      "metadata": {
        "id": "E1XhWrQdbPgg"
      },
      "source": [
        "myac = accuracy_score(y_test,predictions.round())"
      ],
      "execution_count": null,
      "outputs": []
    },
    {
      "cell_type": "code",
      "metadata": {
        "colab": {
          "base_uri": "https://localhost:8080/"
        },
        "id": "oIK_XCAMbpKA",
        "outputId": "0d0ea874-76a9-4b7c-b630-3141bc882152"
      },
      "source": [
        "print(myac)"
      ],
      "execution_count": null,
      "outputs": [
        {
          "output_type": "stream",
          "text": [
            "0.8717391304347826\n"
          ],
          "name": "stdout"
        }
      ]
    },
    {
      "cell_type": "code",
      "metadata": {
        "id": "HrdB1CGWYrYl"
      },
      "source": [
        "from sklearn.metrics import accuracy_score,precision_score,recall_score,f1_score,roc_auc_score"
      ],
      "execution_count": null,
      "outputs": []
    },
    {
      "cell_type": "code",
      "metadata": {
        "colab": {
          "base_uri": "https://localhost:8080/"
        },
        "id": "fxggECRMZALB",
        "outputId": "cfa45433-a096-4515-dc51-f7951c4b64af"
      },
      "source": [
        "auc = roc_auc_score(y_test, predictions.round())\n",
        "print('AUC score: %f' % auc)"
      ],
      "execution_count": null,
      "outputs": [
        {
          "output_type": "stream",
          "text": [
            "AUC score: 0.677945\n"
          ],
          "name": "stdout"
        }
      ]
    },
    {
      "cell_type": "code",
      "metadata": {
        "id": "662s2b3jZKtI"
      },
      "source": [
        "yhat = predictions.round()"
      ],
      "execution_count": null,
      "outputs": []
    },
    {
      "cell_type": "code",
      "metadata": {
        "id": "mS32Nd5dTwuR",
        "colab": {
          "base_uri": "https://localhost:8080/"
        },
        "outputId": "cf12d823-6d85-4e99-e26d-8e2daa53130d"
      },
      "source": [
        "#accuracy: (tp + tn) / (p + n)\n",
        "accuracy = accuracy_score(y_test, yhat)\n",
        "print('Accuracy: %f' % accuracy)\n",
        "# precision tp / (tp + fp)\n",
        "precision = precision_score(y_test, yhat)\n",
        "print('Precision: %f' % precision)\n",
        "# recall: tp / (tp + fn)\n",
        "recall = recall_score(y_test, yhat)\n",
        "print('Recall: %f' % recall)\n",
        "#f1: 2 tp / (2 tp + fp + fn)\n",
        "f1 = f1_score(y_test, predictions.round())\n",
        "print('F1 score: %f' % f1)"
      ],
      "execution_count": null,
      "outputs": [
        {
          "output_type": "stream",
          "text": [
            "Accuracy: 0.871739\n",
            "Precision: 0.805195\n",
            "Recall: 0.375758\n",
            "F1 score: 0.512397\n"
          ],
          "name": "stdout"
        }
      ]
    },
    {
      "cell_type": "markdown",
      "metadata": {
        "id": "dzwhXDWxSHM3"
      },
      "source": [
        "4 Layers CNN"
      ]
    },
    {
      "cell_type": "code",
      "metadata": {
        "colab": {
          "base_uri": "https://localhost:8080/"
        },
        "id": "Gipl8iaNo_Kj",
        "outputId": "53bcc408-97b0-43ef-cbe6-935c7791ba15"
      },
      "source": [
        "x_train = x_train.reshape((3680,34,1))\n",
        "x_train.shape\n"
      ],
      "execution_count": null,
      "outputs": [
        {
          "output_type": "execute_result",
          "data": {
            "text/plain": [
              "(3680, 34, 1)"
            ]
          },
          "metadata": {
            "tags": []
          },
          "execution_count": 79
        }
      ]
    },
    {
      "cell_type": "code",
      "metadata": {
        "colab": {
          "base_uri": "https://localhost:8080/"
        },
        "id": "aGLjFjUqpYSE",
        "outputId": "44a83c99-6750-4807-9d18-5cb75fb2b18e"
      },
      "source": [
        "x_test = x_test.reshape((920,34,1))\n",
        "x_test.shape"
      ],
      "execution_count": null,
      "outputs": [
        {
          "output_type": "execute_result",
          "data": {
            "text/plain": [
              "(920, 34, 1)"
            ]
          },
          "metadata": {
            "tags": []
          },
          "execution_count": 80
        }
      ]
    },
    {
      "cell_type": "code",
      "metadata": {
        "id": "8bGnBzXXSLT_"
      },
      "source": [
        "model = keras.Sequential()\n",
        "model.add(Conv1D(filters = 16, kernel_size = 3,activation ='relu',input_shape=(34,1) ))\n",
        "model.add(Conv1D(filters = 16, kernel_size = 3,activation ='relu' ))\n",
        "model.add(Conv1D(filters = 16, kernel_size = 3,activation ='relu' ))\n",
        "model.add(Conv1D(filters = 16, kernel_size = 3,activation ='relu' ))\n",
        "\n",
        "model.add(Dense(units = 16,activation='relu'))\n",
        "model.add(Dense(units = 16,activation='relu'))\n",
        "model.add(Dense(units = 1,activation='sigmoid'))\n",
        "\n",
        "model.compile(\n",
        "    optimizer = 'rmsprop',\n",
        "    loss = 'binary_crossentropy',\n",
        "    metrics = ['accuracy']\n",
        ")\n"
      ],
      "execution_count": null,
      "outputs": []
    },
    {
      "cell_type": "code",
      "metadata": {
        "colab": {
          "base_uri": "https://localhost:8080/"
        },
        "id": "Ku6AEG6Oo11E",
        "outputId": "1bc7d966-8844-4e62-af35-55eee6a5a070"
      },
      "source": [
        "x_train.shape"
      ],
      "execution_count": null,
      "outputs": [
        {
          "output_type": "execute_result",
          "data": {
            "text/plain": [
              "(3680, 34, 1)"
            ]
          },
          "metadata": {
            "tags": []
          },
          "execution_count": 19
        }
      ]
    },
    {
      "cell_type": "code",
      "metadata": {
        "colab": {
          "base_uri": "https://localhost:8080/"
        },
        "id": "jsMOD2XpU6XP",
        "outputId": "0f006898-30b7-44bc-cea5-e25b2a011251"
      },
      "source": [
        "model.fit(\n",
        "    x_train,\n",
        "    y_train,\n",
        "    epochs= 100,\n",
        "    verbose = 1,\n",
        "    batch_size = 32\n",
        "   \n",
        ")"
      ],
      "execution_count": null,
      "outputs": [
        {
          "output_type": "stream",
          "text": [
            "Epoch 1/100\n",
            "115/115 [==============================] - 1s 4ms/step - loss: 0.5315 - accuracy: 0.7920\n",
            "Epoch 2/100\n",
            "115/115 [==============================] - 0s 4ms/step - loss: 0.4938 - accuracy: 0.7997\n",
            "Epoch 3/100\n",
            "115/115 [==============================] - 0s 4ms/step - loss: 0.4907 - accuracy: 0.7997\n",
            "Epoch 4/100\n",
            "115/115 [==============================] - 0s 4ms/step - loss: 0.4885 - accuracy: 0.7997\n",
            "Epoch 5/100\n",
            "115/115 [==============================] - 0s 4ms/step - loss: 0.4876 - accuracy: 0.7995\n",
            "Epoch 6/100\n",
            "115/115 [==============================] - 0s 4ms/step - loss: 0.4868 - accuracy: 0.7993\n",
            "Epoch 7/100\n",
            "115/115 [==============================] - 0s 4ms/step - loss: 0.4852 - accuracy: 0.7991\n",
            "Epoch 8/100\n",
            "115/115 [==============================] - 0s 4ms/step - loss: 0.4821 - accuracy: 0.7993\n",
            "Epoch 9/100\n",
            "115/115 [==============================] - 0s 4ms/step - loss: 0.4800 - accuracy: 0.7989\n",
            "Epoch 10/100\n",
            "115/115 [==============================] - 0s 4ms/step - loss: 0.4785 - accuracy: 0.8008\n",
            "Epoch 11/100\n",
            "115/115 [==============================] - 0s 4ms/step - loss: 0.4766 - accuracy: 0.8033\n",
            "Epoch 12/100\n",
            "115/115 [==============================] - 0s 4ms/step - loss: 0.4737 - accuracy: 0.8062\n",
            "Epoch 13/100\n",
            "115/115 [==============================] - 0s 4ms/step - loss: 0.4718 - accuracy: 0.8096\n",
            "Epoch 14/100\n",
            "115/115 [==============================] - 0s 4ms/step - loss: 0.4698 - accuracy: 0.8101\n",
            "Epoch 15/100\n",
            "115/115 [==============================] - 0s 4ms/step - loss: 0.4670 - accuracy: 0.8130\n",
            "Epoch 16/100\n",
            "115/115 [==============================] - 0s 4ms/step - loss: 0.4658 - accuracy: 0.8141\n",
            "Epoch 17/100\n",
            "115/115 [==============================] - 0s 4ms/step - loss: 0.4636 - accuracy: 0.8166\n",
            "Epoch 18/100\n",
            "115/115 [==============================] - 0s 4ms/step - loss: 0.4616 - accuracy: 0.8176\n",
            "Epoch 19/100\n",
            "115/115 [==============================] - 0s 4ms/step - loss: 0.4601 - accuracy: 0.8188\n",
            "Epoch 20/100\n",
            "115/115 [==============================] - 0s 4ms/step - loss: 0.4593 - accuracy: 0.8187\n",
            "Epoch 21/100\n",
            "115/115 [==============================] - 0s 4ms/step - loss: 0.4569 - accuracy: 0.8201\n",
            "Epoch 22/100\n",
            "115/115 [==============================] - 0s 4ms/step - loss: 0.4566 - accuracy: 0.8205\n",
            "Epoch 23/100\n",
            "115/115 [==============================] - 0s 4ms/step - loss: 0.4540 - accuracy: 0.8219\n",
            "Epoch 24/100\n",
            "115/115 [==============================] - 0s 3ms/step - loss: 0.4531 - accuracy: 0.8230\n",
            "Epoch 25/100\n",
            "115/115 [==============================] - 0s 3ms/step - loss: 0.4531 - accuracy: 0.8235\n",
            "Epoch 26/100\n",
            "115/115 [==============================] - 0s 3ms/step - loss: 0.4532 - accuracy: 0.8232\n",
            "Epoch 27/100\n",
            "115/115 [==============================] - 0s 3ms/step - loss: 0.4508 - accuracy: 0.8236\n",
            "Epoch 28/100\n",
            "115/115 [==============================] - 0s 4ms/step - loss: 0.4499 - accuracy: 0.8255\n",
            "Epoch 29/100\n",
            "115/115 [==============================] - 0s 3ms/step - loss: 0.4496 - accuracy: 0.8250\n",
            "Epoch 30/100\n",
            "115/115 [==============================] - 0s 3ms/step - loss: 0.4479 - accuracy: 0.8258\n",
            "Epoch 31/100\n",
            "115/115 [==============================] - 0s 3ms/step - loss: 0.4486 - accuracy: 0.8254\n",
            "Epoch 32/100\n",
            "115/115 [==============================] - 0s 3ms/step - loss: 0.4478 - accuracy: 0.8257\n",
            "Epoch 33/100\n",
            "115/115 [==============================] - 0s 4ms/step - loss: 0.4461 - accuracy: 0.8267\n",
            "Epoch 34/100\n",
            "115/115 [==============================] - 0s 3ms/step - loss: 0.4464 - accuracy: 0.8263\n",
            "Epoch 35/100\n",
            "115/115 [==============================] - 0s 4ms/step - loss: 0.4449 - accuracy: 0.8277\n",
            "Epoch 36/100\n",
            "115/115 [==============================] - 0s 4ms/step - loss: 0.4456 - accuracy: 0.8272\n",
            "Epoch 37/100\n",
            "115/115 [==============================] - 0s 3ms/step - loss: 0.4441 - accuracy: 0.8284\n",
            "Epoch 38/100\n",
            "115/115 [==============================] - 0s 4ms/step - loss: 0.4438 - accuracy: 0.8287\n",
            "Epoch 39/100\n",
            "115/115 [==============================] - 0s 3ms/step - loss: 0.4444 - accuracy: 0.8283\n",
            "Epoch 40/100\n",
            "115/115 [==============================] - 0s 3ms/step - loss: 0.4430 - accuracy: 0.8290\n",
            "Epoch 41/100\n",
            "115/115 [==============================] - 0s 3ms/step - loss: 0.4428 - accuracy: 0.8293\n",
            "Epoch 42/100\n",
            "115/115 [==============================] - 0s 3ms/step - loss: 0.4416 - accuracy: 0.8293\n",
            "Epoch 43/100\n",
            "115/115 [==============================] - 0s 3ms/step - loss: 0.4407 - accuracy: 0.8304\n",
            "Epoch 44/100\n",
            "115/115 [==============================] - 0s 4ms/step - loss: 0.4411 - accuracy: 0.8308\n",
            "Epoch 45/100\n",
            "115/115 [==============================] - 0s 4ms/step - loss: 0.4404 - accuracy: 0.8305\n",
            "Epoch 46/100\n",
            "115/115 [==============================] - 0s 4ms/step - loss: 0.4403 - accuracy: 0.8302\n",
            "Epoch 47/100\n",
            "115/115 [==============================] - 0s 3ms/step - loss: 0.4403 - accuracy: 0.8307\n",
            "Epoch 48/100\n",
            "115/115 [==============================] - 0s 3ms/step - loss: 0.4402 - accuracy: 0.8303\n",
            "Epoch 49/100\n",
            "115/115 [==============================] - 0s 3ms/step - loss: 0.4394 - accuracy: 0.8309\n",
            "Epoch 50/100\n",
            "115/115 [==============================] - 0s 3ms/step - loss: 0.4382 - accuracy: 0.8325\n",
            "Epoch 51/100\n",
            "115/115 [==============================] - 0s 4ms/step - loss: 0.4393 - accuracy: 0.8311\n",
            "Epoch 52/100\n",
            "115/115 [==============================] - 0s 3ms/step - loss: 0.4380 - accuracy: 0.8318\n",
            "Epoch 53/100\n",
            "115/115 [==============================] - 0s 4ms/step - loss: 0.4388 - accuracy: 0.8316\n",
            "Epoch 54/100\n",
            "115/115 [==============================] - 0s 3ms/step - loss: 0.4375 - accuracy: 0.8321\n",
            "Epoch 55/100\n",
            "115/115 [==============================] - 0s 4ms/step - loss: 0.4369 - accuracy: 0.8328\n",
            "Epoch 56/100\n",
            "115/115 [==============================] - 0s 4ms/step - loss: 0.4377 - accuracy: 0.8315\n",
            "Epoch 57/100\n",
            "115/115 [==============================] - 0s 3ms/step - loss: 0.4376 - accuracy: 0.8328\n",
            "Epoch 58/100\n",
            "115/115 [==============================] - 0s 4ms/step - loss: 0.4357 - accuracy: 0.8340\n",
            "Epoch 59/100\n",
            "115/115 [==============================] - 0s 4ms/step - loss: 0.4360 - accuracy: 0.8334\n",
            "Epoch 60/100\n",
            "115/115 [==============================] - 0s 3ms/step - loss: 0.4363 - accuracy: 0.8331\n",
            "Epoch 61/100\n",
            "115/115 [==============================] - 0s 4ms/step - loss: 0.4340 - accuracy: 0.8344\n",
            "Epoch 62/100\n",
            "115/115 [==============================] - 0s 4ms/step - loss: 0.4350 - accuracy: 0.8339\n",
            "Epoch 63/100\n",
            "115/115 [==============================] - 0s 3ms/step - loss: 0.4349 - accuracy: 0.8340\n",
            "Epoch 64/100\n",
            "115/115 [==============================] - 0s 4ms/step - loss: 0.4334 - accuracy: 0.8338\n",
            "Epoch 65/100\n",
            "115/115 [==============================] - 0s 4ms/step - loss: 0.4327 - accuracy: 0.8345\n",
            "Epoch 66/100\n",
            "115/115 [==============================] - 0s 4ms/step - loss: 0.4344 - accuracy: 0.8344\n",
            "Epoch 67/100\n",
            "115/115 [==============================] - 0s 3ms/step - loss: 0.4334 - accuracy: 0.8346\n",
            "Epoch 68/100\n",
            "115/115 [==============================] - 0s 4ms/step - loss: 0.4333 - accuracy: 0.8344\n",
            "Epoch 69/100\n",
            "115/115 [==============================] - 0s 4ms/step - loss: 0.4331 - accuracy: 0.8348\n",
            "Epoch 70/100\n",
            "115/115 [==============================] - 0s 3ms/step - loss: 0.4332 - accuracy: 0.8346\n",
            "Epoch 71/100\n",
            "115/115 [==============================] - 0s 4ms/step - loss: 0.4331 - accuracy: 0.8355\n",
            "Epoch 72/100\n",
            "115/115 [==============================] - 0s 3ms/step - loss: 0.4324 - accuracy: 0.8345\n",
            "Epoch 73/100\n",
            "115/115 [==============================] - 0s 4ms/step - loss: 0.4321 - accuracy: 0.8356\n",
            "Epoch 74/100\n",
            "115/115 [==============================] - 0s 4ms/step - loss: 0.4319 - accuracy: 0.8355\n",
            "Epoch 75/100\n",
            "115/115 [==============================] - 0s 4ms/step - loss: 0.4315 - accuracy: 0.8357\n",
            "Epoch 76/100\n",
            "115/115 [==============================] - 0s 4ms/step - loss: 0.4318 - accuracy: 0.8348\n",
            "Epoch 77/100\n",
            "115/115 [==============================] - 0s 3ms/step - loss: 0.4326 - accuracy: 0.8354\n",
            "Epoch 78/100\n",
            "115/115 [==============================] - 0s 4ms/step - loss: 0.4315 - accuracy: 0.8354\n",
            "Epoch 79/100\n",
            "115/115 [==============================] - 0s 4ms/step - loss: 0.4327 - accuracy: 0.8351\n",
            "Epoch 80/100\n",
            "115/115 [==============================] - 0s 4ms/step - loss: 0.4319 - accuracy: 0.8354\n",
            "Epoch 81/100\n",
            "115/115 [==============================] - 0s 4ms/step - loss: 0.4307 - accuracy: 0.8357\n",
            "Epoch 82/100\n",
            "115/115 [==============================] - 0s 4ms/step - loss: 0.4308 - accuracy: 0.8360\n",
            "Epoch 83/100\n",
            "115/115 [==============================] - 0s 4ms/step - loss: 0.4314 - accuracy: 0.8355\n",
            "Epoch 84/100\n",
            "115/115 [==============================] - 0s 3ms/step - loss: 0.4299 - accuracy: 0.8365\n",
            "Epoch 85/100\n",
            "115/115 [==============================] - 0s 4ms/step - loss: 0.4299 - accuracy: 0.8366\n",
            "Epoch 86/100\n",
            "115/115 [==============================] - 0s 3ms/step - loss: 0.4303 - accuracy: 0.8365\n",
            "Epoch 87/100\n",
            "115/115 [==============================] - 0s 4ms/step - loss: 0.4305 - accuracy: 0.8359\n",
            "Epoch 88/100\n",
            "115/115 [==============================] - 0s 4ms/step - loss: 0.4293 - accuracy: 0.8369\n",
            "Epoch 89/100\n",
            "115/115 [==============================] - 0s 4ms/step - loss: 0.4291 - accuracy: 0.8368\n",
            "Epoch 90/100\n",
            "115/115 [==============================] - 0s 4ms/step - loss: 0.4285 - accuracy: 0.8370\n",
            "Epoch 91/100\n",
            "115/115 [==============================] - 0s 4ms/step - loss: 0.4293 - accuracy: 0.8367\n",
            "Epoch 92/100\n",
            "115/115 [==============================] - 0s 4ms/step - loss: 0.4282 - accuracy: 0.8374\n",
            "Epoch 93/100\n",
            "115/115 [==============================] - 0s 4ms/step - loss: 0.4282 - accuracy: 0.8376\n",
            "Epoch 94/100\n",
            "115/115 [==============================] - 0s 3ms/step - loss: 0.4262 - accuracy: 0.8383\n",
            "Epoch 95/100\n",
            "115/115 [==============================] - 0s 4ms/step - loss: 0.4286 - accuracy: 0.8372\n",
            "Epoch 96/100\n",
            "115/115 [==============================] - 0s 4ms/step - loss: 0.4275 - accuracy: 0.8379\n",
            "Epoch 97/100\n",
            "115/115 [==============================] - 0s 4ms/step - loss: 0.4271 - accuracy: 0.8369\n",
            "Epoch 98/100\n",
            "115/115 [==============================] - 0s 4ms/step - loss: 0.4273 - accuracy: 0.8371\n",
            "Epoch 99/100\n",
            "115/115 [==============================] - 0s 3ms/step - loss: 0.4281 - accuracy: 0.8377\n",
            "Epoch 100/100\n",
            "115/115 [==============================] - 0s 4ms/step - loss: 0.4276 - accuracy: 0.8367\n"
          ],
          "name": "stdout"
        },
        {
          "output_type": "execute_result",
          "data": {
            "text/plain": [
              "<tensorflow.python.keras.callbacks.History at 0x7f520e39b0d0>"
            ]
          },
          "metadata": {
            "tags": []
          },
          "execution_count": 34
        }
      ]
    },
    {
      "cell_type": "code",
      "metadata": {
        "colab": {
          "base_uri": "https://localhost:8080/"
        },
        "id": "8BjCmkgUqrDj",
        "outputId": "d2c83374-3d47-47be-8a0d-b99107aea260"
      },
      "source": [
        "model.evaluate(x_test, y_test)"
      ],
      "execution_count": null,
      "outputs": [
        {
          "output_type": "stream",
          "text": [
            "29/29 [==============================] - 0s 3ms/step - loss: 0.4124 - accuracy: 0.8492\n"
          ],
          "name": "stdout"
        },
        {
          "output_type": "execute_result",
          "data": {
            "text/plain": [
              "[0.4124494194984436, 0.8491640090942383]"
            ]
          },
          "metadata": {
            "tags": []
          },
          "execution_count": 35
        }
      ]
    },
    {
      "cell_type": "code",
      "metadata": {
        "id": "NZDCEoX7qWU8"
      },
      "source": [
        "predictions = model.predict(x_test)"
      ],
      "execution_count": null,
      "outputs": []
    },
    {
      "cell_type": "code",
      "metadata": {
        "id": "b3LrKYkJqND8"
      },
      "source": [
        "predictions"
      ],
      "execution_count": null,
      "outputs": []
    },
    {
      "cell_type": "code",
      "metadata": {
        "id": "ilYPiZb-qN3r"
      },
      "source": [
        "print(myac)"
      ],
      "execution_count": null,
      "outputs": []
    },
    {
      "cell_type": "markdown",
      "metadata": {
        "id": "J_A6f6YGHGMS"
      },
      "source": [
        "RNN"
      ]
    },
    {
      "cell_type": "code",
      "metadata": {
        "id": "9zjzPGsIHIFq"
      },
      "source": [
        "#importing files\n",
        "import keras.utils as ku\n",
        "from keras.callbacks import EarlyStopping\n",
        "from keras.utils.vis_utils import plot_model\n",
        "from keras.layers import Dropout\n",
        "from keras import optimizers\n",
        "from numpy.random import seed"
      ],
      "execution_count": null,
      "outputs": []
    },
    {
      "cell_type": "code",
      "metadata": {
        "id": "3to1eA4Brl9b"
      },
      "source": [
        "layers = keras.layers\n",
        "models = keras.models"
      ],
      "execution_count": null,
      "outputs": []
    },
    {
      "cell_type": "code",
      "metadata": {
        "id": "P9aMNxvCmDoB"
      },
      "source": [
        "#model\n",
        "\n",
        "# adam=keras.optimizers.Adam(learning_rate=0.005, beta_1=0.9, beta_2=0.999, amsgrad=False)\n",
        "# model = Sequential()\n",
        "# model.add(keras.layers.Dense(512,kernel_initializer='uniform',input_shape=(34,)))\n",
        "# model.add(keras.layers.Dropout(0.2))\n",
        "# model.add(keras.layers.Activation('relu'))\n",
        "# model.add(keras.layers.Dense(1))\n",
        "# model.add(keras.layers.Dropout(0.2))\n",
        "# model.add(keras.layers.Activation('sigmoid'))\n",
        "# model.compile(loss='binary_crossentropy',optimizer=adam,metrics=['accuracy'])"
      ],
      "execution_count": null,
      "outputs": []
    },
    {
      "cell_type": "code",
      "metadata": {
        "colab": {
          "base_uri": "https://localhost:8080/"
        },
        "id": "pea07m8SwMlk",
        "outputId": "3f804d02-ef8f-4583-a54c-26fc2c730833"
      },
      "source": [
        "from keras.models import Sequential\n",
        "from keras.layers import LSTM, Dense, Dropout, Masking, Embedding\n",
        "\n",
        "model = Sequential()\n",
        "\n",
        "# # Embedding layer\n",
        "# model.add(\n",
        "#     Embedding(input_dim=34,\n",
        "  \n",
        "#               output_dim=1,\n",
        "              \n",
        "#               trainable=False,\n",
        "#               mask_zero=True))\n",
        "model.add(keras.layers.Dense(512,kernel_initializer='uniform',input_shape=(34,1)))\n",
        "\n",
        "# Masking layer for pre-trained embeddings\n",
        "model.add(Masking(mask_value=0.0))\n",
        "\n",
        "# Recurrent layer\n",
        "model.add(LSTM(64, return_sequences=False, \n",
        "               dropout=0.1, recurrent_dropout=0.1))\n",
        "\n",
        "# Fully connected layer\n",
        "model.add(Dense(64, activation='relu'))\n",
        "\n",
        "# Dropout for regularization\n",
        "model.add(Dropout(0.2))\n",
        "\n",
        "# Output layer\n",
        "model.add(Dense(1, activation='sigmoid'))\n",
        "\n",
        "# Compile the model\n",
        "model.compile(\n",
        "    optimizer='adam', loss='binary_crossentropy', metrics=['accuracy'])"
      ],
      "execution_count": null,
      "outputs": [
        {
          "output_type": "stream",
          "text": [
            "WARNING:tensorflow:Layer lstm_7 will not use cuDNN kernels since it doesn't meet the criteria. It will use a generic GPU kernel as fallback when running on GPU.\n"
          ],
          "name": "stdout"
        }
      ]
    },
    {
      "cell_type": "code",
      "metadata": {
        "colab": {
          "base_uri": "https://localhost:8080/"
        },
        "id": "aCFJlSbLsRYH",
        "outputId": "a56f04c3-202d-4266-9aef-e6413a391285"
      },
      "source": [
        "model.fit(\n",
        "    x_train,\n",
        "    y_train,\n",
        "    epochs= 10,\n",
        "    verbose = 1,\n",
        "    batch_size = 32\n",
        "   \n",
        ")"
      ],
      "execution_count": null,
      "outputs": [
        {
          "output_type": "stream",
          "text": [
            "Epoch 1/10\n",
            "115/115 [==============================] - 11s 64ms/step - loss: 0.5125 - accuracy: 0.8064\n",
            "Epoch 2/10\n",
            "115/115 [==============================] - 7s 64ms/step - loss: 0.4340 - accuracy: 0.8441\n",
            "Epoch 3/10\n",
            "115/115 [==============================] - 8s 65ms/step - loss: 0.4324 - accuracy: 0.8395\n",
            "Epoch 4/10\n",
            "115/115 [==============================] - 8s 68ms/step - loss: 0.3937 - accuracy: 0.8640\n",
            "Epoch 5/10\n",
            "115/115 [==============================] - 8s 68ms/step - loss: 0.4306 - accuracy: 0.8435\n",
            "Epoch 6/10\n",
            "115/115 [==============================] - 8s 68ms/step - loss: 0.4048 - accuracy: 0.8591\n",
            "Epoch 7/10\n",
            "115/115 [==============================] - 7s 63ms/step - loss: 0.4262 - accuracy: 0.8421\n",
            "Epoch 8/10\n",
            "115/115 [==============================] - 7s 64ms/step - loss: 0.4216 - accuracy: 0.8445\n",
            "Epoch 9/10\n",
            "115/115 [==============================] - 7s 63ms/step - loss: 0.3905 - accuracy: 0.8630\n",
            "Epoch 10/10\n",
            "115/115 [==============================] - 7s 64ms/step - loss: 0.4165 - accuracy: 0.8469\n"
          ],
          "name": "stdout"
        },
        {
          "output_type": "execute_result",
          "data": {
            "text/plain": [
              "<keras.callbacks.History at 0x7f51901d3910>"
            ]
          },
          "metadata": {
            "tags": []
          },
          "execution_count": 84
        }
      ]
    },
    {
      "cell_type": "code",
      "metadata": {
        "colab": {
          "base_uri": "https://localhost:8080/"
        },
        "id": "wrR4Felesa-z",
        "outputId": "1002513e-f7a8-40f3-a5b9-fa41c0c4ad88"
      },
      "source": [
        "model.evaluate(x_test, y_test)"
      ],
      "execution_count": null,
      "outputs": [
        {
          "output_type": "stream",
          "text": [
            "29/29 [==============================] - 2s 14ms/step - loss: 0.3866 - accuracy: 0.8663\n"
          ],
          "name": "stdout"
        },
        {
          "output_type": "execute_result",
          "data": {
            "text/plain": [
              "[0.38659700751304626, 0.866304337978363]"
            ]
          },
          "metadata": {
            "tags": []
          },
          "execution_count": 85
        }
      ]
    }
  ]
}