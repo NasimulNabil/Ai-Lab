{
  "nbformat": 4,
  "nbformat_minor": 0,
  "metadata": {
    "colab": {
      "name": "Ai(Lab)3.ipynb",
      "provenance": [],
      "collapsed_sections": [],
      "authorship_tag": "ABX9TyODyeP7Z6DhoQIKqdm2qDEr",
      "include_colab_link": true
    },
    "kernelspec": {
      "name": "python3",
      "display_name": "Python 3"
    }
  },
  "cells": [
    {
      "cell_type": "markdown",
      "metadata": {
        "id": "view-in-github",
        "colab_type": "text"
      },
      "source": [
        "<a href=\"https://colab.research.google.com/github/NasimulNabil/Ai-Lab/blob/main/Ai(Lab)3.ipynb\" target=\"_parent\"><img src=\"https://colab.research.google.com/assets/colab-badge.svg\" alt=\"Open In Colab\"/></a>"
      ]
    },
    {
      "cell_type": "code",
      "metadata": {
        "colab": {
          "base_uri": "https://localhost:8080/"
        },
        "id": "MM4gWtX7PINV",
        "outputId": "5f4279ac-d486-48d5-a184-997262b45b51"
      },
      "source": [
        "#list\n",
        "list0=[1,2,3,2.23,54,'Anaconda',[2,34,5]]\n",
        "print(list0)\n",
        "list1=[]\n",
        "print(list1)\n",
        "list2=list()\n",
        "print(list2)"
      ],
      "execution_count": null,
      "outputs": [
        {
          "output_type": "stream",
          "text": [
            "[1, 2, 3, 2.23, 54, 'Anaconda', [2, 34, 5]]\n",
            "[]\n",
            "[]\n"
          ],
          "name": "stdout"
        }
      ]
    },
    {
      "cell_type": "code",
      "metadata": {
        "colab": {
          "base_uri": "https://localhost:8080/"
        },
        "id": "KIa-a2SHROxZ",
        "outputId": "1e111c8d-3250-4fe8-e75a-f1498bb6ab6d"
      },
      "source": [
        "#iterative list\n",
        "list0=[1,2,3,2.23,54,'python3.7',[2,34,5]]\n",
        "for i in list0:\n",
        "  print(i,end='')\n",
        "print('')"
      ],
      "execution_count": null,
      "outputs": [
        {
          "output_type": "stream",
          "text": [
            "1232.2354python3.7[2, 34, 5]\n"
          ],
          "name": "stdout"
        }
      ]
    },
    {
      "cell_type": "code",
      "metadata": {
        "colab": {
          "base_uri": "https://localhost:8080/"
        },
        "id": "WweaGWrXTeaX",
        "outputId": "c569efc2-998d-432e-85ea-eefe41491824"
      },
      "source": [
        "#tuple\n",
        "tp0=[1,2,3,2.23,54,'Coffee',[2,34,5]]\n",
        "print(tp0)\n",
        "tp1=()\n",
        "print(tp1)\n",
        "tp2=tuple()\n",
        "print(tp1)\n"
      ],
      "execution_count": null,
      "outputs": [
        {
          "output_type": "stream",
          "text": [
            "[1, 2, 3, 2.23, 54, 'Coffee', [2, 34, 5]]\n",
            "()\n",
            "()\n"
          ],
          "name": "stdout"
        }
      ]
    },
    {
      "cell_type": "code",
      "metadata": {
        "id": "aiYUTb98Ukaf"
      },
      "source": [
        "# create object\n",
        "\n",
        "class Ball():\n",
        "  def __init__(self):\n",
        "    print(f'Ball created')\n",
        "  def who_i_am(self):\n",
        "    print(f'i have a cricket ball')"
      ],
      "execution_count": null,
      "outputs": []
    },
    {
      "cell_type": "code",
      "metadata": {
        "id": "J7xQlxKBVuT-"
      },
      "source": [
        "#create a child(footbalclass)\n",
        "class Football(Ball):\n",
        "  def __init__(self):\n",
        "    # create instance\n",
        "    Ball. __init__(self)\n",
        "    print(f'football created')"
      ],
      "execution_count": null,
      "outputs": []
    },
    {
      "cell_type": "code",
      "metadata": {
        "colab": {
          "base_uri": "https://localhost:8080/"
        },
        "id": "D92SCC8YWTt2",
        "outputId": "68d76c00-8b62-4c3a-a91c-a9ecb5e2fdde"
      },
      "source": [
        "#create object\n",
        "myFootball=Football()"
      ],
      "execution_count": null,
      "outputs": [
        {
          "output_type": "stream",
          "text": [
            "Ball created\n",
            "football created\n"
          ],
          "name": "stdout"
        }
      ]
    },
    {
      "cell_type": "code",
      "metadata": {
        "colab": {
          "base_uri": "https://localhost:8080/"
        },
        "id": "ShGQTBqJXrLQ",
        "outputId": "3f981d4a-0d3e-4102-ca97-5395aea35f60"
      },
      "source": [
        "#call base method\n",
        "myFootball.who_i_am()"
      ],
      "execution_count": null,
      "outputs": [
        {
          "output_type": "stream",
          "text": [
            "i have a cricket ball\n"
          ],
          "name": "stdout"
        }
      ]
    },
    {
      "cell_type": "code",
      "metadata": {
        "id": "yMELP6_yYJRg"
      },
      "source": [
        "#create overridding\n",
        "class Football(Ball):\n",
        "  def __init__(self):\n",
        "    # create instance\n",
        "    Ball. __init__(self)\n",
        "    print(f'football created')\n"
      ],
      "execution_count": null,
      "outputs": []
    },
    {
      "cell_type": "code",
      "metadata": {
        "id": "c8kuvWKzYpNd"
      },
      "source": [
        "#override\n",
        "def who_i_am(self):\n",
        "  print(f'i have a cricket ball')"
      ],
      "execution_count": null,
      "outputs": []
    },
    {
      "cell_type": "code",
      "metadata": {
        "colab": {
          "base_uri": "https://localhost:8080/"
        },
        "id": "6-EEa9DBY3m1",
        "outputId": "c6fdd8a7-d9fa-40bb-f21c-a9fe62fd2623"
      },
      "source": [
        "#object\n",
        "myFootball=Football()"
      ],
      "execution_count": null,
      "outputs": [
        {
          "output_type": "stream",
          "text": [
            "Ball created\n",
            "football created\n"
          ],
          "name": "stdout"
        }
      ]
    },
    {
      "cell_type": "code",
      "metadata": {
        "colab": {
          "base_uri": "https://localhost:8080/"
        },
        "id": "fduKlZb6ZHxF",
        "outputId": "5b5032cb-ac95-4cff-a9e9-9f3d6d6e66e5"
      },
      "source": [
        "myFootball.who_i_am()"
      ],
      "execution_count": null,
      "outputs": [
        {
          "output_type": "stream",
          "text": [
            "i have a cricket ball\n"
          ],
          "name": "stdout"
        }
      ]
    },
    {
      "cell_type": "code",
      "metadata": {
        "colab": {
          "base_uri": "https://localhost:8080/"
        },
        "id": "FRBG60JGapvs",
        "outputId": "9491bdc8-39b1-4e55-eb1e-2b6c3453969e"
      },
      "source": [
        "import numpy as np\n",
        "numbers=np.array([2,3,4,5,6])\n",
        "numbers"
      ],
      "execution_count": null,
      "outputs": [
        {
          "output_type": "execute_result",
          "data": {
            "text/plain": [
              "array([2, 3, 4, 5, 6])"
            ]
          },
          "metadata": {
            "tags": []
          },
          "execution_count": 58
        }
      ]
    },
    {
      "cell_type": "code",
      "metadata": {
        "colab": {
          "base_uri": "https://localhost:8080/"
        },
        "id": "HHmIMU-obGGn",
        "outputId": "a5027c3b-1e8a-4c10-c904-7e6853ee716c"
      },
      "source": [
        "#2D array\n",
        "number1=np.array([[1,2,3,4],[9,8,7,6]])\n",
        "number1"
      ],
      "execution_count": null,
      "outputs": [
        {
          "output_type": "execute_result",
          "data": {
            "text/plain": [
              "array([[1, 2, 3, 4],\n",
              "       [9, 8, 7, 6]])"
            ]
          },
          "metadata": {
            "tags": []
          },
          "execution_count": 59
        }
      ]
    },
    {
      "cell_type": "code",
      "metadata": {
        "colab": {
          "base_uri": "https://localhost:8080/"
        },
        "id": "ZvvGmPCpczUH",
        "outputId": "fb440365-db7d-4e28-bcf3-4cf117e5aa41"
      },
      "source": [
        "#3D array\n",
        "number3 = np.array([[[1, 2, 3], [4, 5, 6]], [[1, 2, 3], [4, 5, 6]]])\n",
        "number3"
      ],
      "execution_count": null,
      "outputs": [
        {
          "output_type": "execute_result",
          "data": {
            "text/plain": [
              "array([[[1, 2, 3],\n",
              "        [4, 5, 6]],\n",
              "\n",
              "       [[1, 2, 3],\n",
              "        [4, 5, 6]]])"
            ]
          },
          "metadata": {
            "tags": []
          },
          "execution_count": 60
        }
      ]
    }
  ]
}